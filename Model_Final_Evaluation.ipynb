{
 "cells": [
  {
   "cell_type": "code",
   "execution_count": 1,
   "id": "0c85fa75",
   "metadata": {},
   "outputs": [],
   "source": [
    "import pandas as pd\n",
    "import xml.etree.ElementTree as xet"
   ]
  },
  {
   "cell_type": "code",
   "execution_count": 2,
   "id": "c37819e1",
   "metadata": {},
   "outputs": [],
   "source": [
    "#importing the required libraries\n",
    "import numpy as np\n",
    "import matplotlib.pyplot as plt\n",
    "import os\n",
    "import cv2"
   ]
  },
  {
   "cell_type": "code",
   "execution_count": 3,
   "id": "3e419c72",
   "metadata": {},
   "outputs": [],
   "source": [
    "from glob import glob"
   ]
  },
  {
   "cell_type": "code",
   "execution_count": 4,
   "id": "1eaba930",
   "metadata": {},
   "outputs": [
    {
     "name": "stdout",
     "output_type": "stream",
     "text": [
      "['./images\\\\N209.xml', './images\\\\N70.xml', './images\\\\N57.xml', './images\\\\N174.xml', './images\\\\N164.xml']\n"
     ]
    }
   ],
   "source": [
    "df = pd.read_csv('latest_test_data_info.csv', names=['data'])\n",
    "path = df['data'].tolist()\n",
    "path.pop(0)\n",
    "print(path[:5])"
   ]
  },
  {
   "cell_type": "code",
   "execution_count": 5,
   "id": "5f290187",
   "metadata": {},
   "outputs": [],
   "source": [
    "#Extracting the coordinates of number plate from the xml files\n",
    "test_labels_dict = dict(filepath=[],xmin=[],xmax=[],ymin=[],ymax=[])\n",
    "for filePath in path:\n",
    "    #firstImagePath = path[0]\n",
    "    info = xet.parse(filePath)\n",
    "    root = info.getroot()\n",
    "    member_object = root.find('object')\n",
    "    labels_info = member_object.find('bndbox')\n",
    "    xmin = int(labels_info.find('xmin').text)\n",
    "    xmax = int(labels_info.find('xmax').text)\n",
    "    ymin = int(labels_info.find('ymin').text)\n",
    "    ymax = int(labels_info.find('ymax').text)\n",
    "    #print(xmin , xmax , ymin , ymax)\n",
    "    test_labels_dict['filepath'].append(filePath)\n",
    "    test_labels_dict['xmin'].append(xmin)\n",
    "    test_labels_dict['xmax'].append(xmax)\n",
    "    test_labels_dict['ymin'].append(ymin)\n",
    "    test_labels_dict['ymax'].append(ymax)"
   ]
  },
  {
   "cell_type": "code",
   "execution_count": 6,
   "id": "6c83a796",
   "metadata": {},
   "outputs": [
    {
     "data": {
      "text/html": [
       "<div>\n",
       "<style scoped>\n",
       "    .dataframe tbody tr th:only-of-type {\n",
       "        vertical-align: middle;\n",
       "    }\n",
       "\n",
       "    .dataframe tbody tr th {\n",
       "        vertical-align: top;\n",
       "    }\n",
       "\n",
       "    .dataframe thead th {\n",
       "        text-align: right;\n",
       "    }\n",
       "</style>\n",
       "<table border=\"1\" class=\"dataframe\">\n",
       "  <thead>\n",
       "    <tr style=\"text-align: right;\">\n",
       "      <th></th>\n",
       "      <th>filepath</th>\n",
       "      <th>xmin</th>\n",
       "      <th>xmax</th>\n",
       "      <th>ymin</th>\n",
       "      <th>ymax</th>\n",
       "    </tr>\n",
       "  </thead>\n",
       "  <tbody>\n",
       "    <tr>\n",
       "      <th>0</th>\n",
       "      <td>./images\\N209.xml</td>\n",
       "      <td>145</td>\n",
       "      <td>319</td>\n",
       "      <td>200</td>\n",
       "      <td>244</td>\n",
       "    </tr>\n",
       "    <tr>\n",
       "      <th>1</th>\n",
       "      <td>./images\\N70.xml</td>\n",
       "      <td>186</td>\n",
       "      <td>395</td>\n",
       "      <td>376</td>\n",
       "      <td>430</td>\n",
       "    </tr>\n",
       "    <tr>\n",
       "      <th>2</th>\n",
       "      <td>./images\\N57.xml</td>\n",
       "      <td>211</td>\n",
       "      <td>406</td>\n",
       "      <td>161</td>\n",
       "      <td>202</td>\n",
       "    </tr>\n",
       "    <tr>\n",
       "      <th>3</th>\n",
       "      <td>./images\\N174.xml</td>\n",
       "      <td>315</td>\n",
       "      <td>665</td>\n",
       "      <td>442</td>\n",
       "      <td>531</td>\n",
       "    </tr>\n",
       "    <tr>\n",
       "      <th>4</th>\n",
       "      <td>./images\\N164.xml</td>\n",
       "      <td>248</td>\n",
       "      <td>421</td>\n",
       "      <td>121</td>\n",
       "      <td>174</td>\n",
       "    </tr>\n",
       "  </tbody>\n",
       "</table>\n",
       "</div>"
      ],
      "text/plain": [
       "            filepath  xmin  xmax  ymin  ymax\n",
       "0  ./images\\N209.xml   145   319   200   244\n",
       "1   ./images\\N70.xml   186   395   376   430\n",
       "2   ./images\\N57.xml   211   406   161   202\n",
       "3  ./images\\N174.xml   315   665   442   531\n",
       "4  ./images\\N164.xml   248   421   121   174"
      ]
     },
     "metadata": {},
     "output_type": "display_data"
    }
   ],
   "source": [
    "#converting Dictionary to Dataframe\n",
    "df = pd.DataFrame(test_labels_dict)\n",
    "display(df.head())"
   ]
  },
  {
   "cell_type": "code",
   "execution_count": 17,
   "id": "319dd7e0",
   "metadata": {},
   "outputs": [
    {
     "data": {
      "text/plain": [
       "(45, 5)"
      ]
     },
     "execution_count": 17,
     "metadata": {},
     "output_type": "execute_result"
    }
   ],
   "source": [
    "df.shape"
   ]
  },
  {
   "cell_type": "code",
   "execution_count": 7,
   "id": "e418ae5e",
   "metadata": {},
   "outputs": [],
   "source": [
    "#function that returns image file path when given its corresponding xml file path\n",
    "def getImgFilePath(xmlFilePath):\n",
    "    fileName = xet.parse(xmlFilePath).getroot().find('filename').text\n",
    "    imgFilePath = os.path.join('./images',fileName)\n",
    "    return imgFilePath"
   ]
  },
  {
   "cell_type": "code",
   "execution_count": 8,
   "id": "da527fba",
   "metadata": {},
   "outputs": [
    {
     "data": {
      "text/plain": [
       "['./images\\\\N209.jpeg',\n",
       " './images\\\\N70.jpeg',\n",
       " './images\\\\N57.jpeg',\n",
       " './images\\\\N174.jpeg',\n",
       " './images\\\\N164.jpeg']"
      ]
     },
     "execution_count": 8,
     "metadata": {},
     "output_type": "execute_result"
    }
   ],
   "source": [
    "images_path = list(df['filepath'].apply(getImgFilePath))\n",
    "images_path[:5]"
   ]
  },
  {
   "cell_type": "code",
   "execution_count": 9,
   "id": "0915d1e3",
   "metadata": {},
   "outputs": [
    {
     "data": {
      "text/plain": [
       "'./images\\\\N209.jpeg'"
      ]
     },
     "execution_count": 9,
     "metadata": {},
     "output_type": "execute_result"
    }
   ],
   "source": [
    "#verification\n",
    "sample_img_path = images_path[0]\n",
    "sample_img_path"
   ]
  },
  {
   "cell_type": "code",
   "execution_count": 10,
   "id": "b8c69873",
   "metadata": {},
   "outputs": [],
   "source": [
    "#displaying the image\n",
    "sample_img = cv2.imread(sample_img_path)\n",
    "cv2.namedWindow('SampleImageWindow' , cv2.WINDOW_NORMAL)\n",
    "cv2.imshow('SampleImage' , sample_img)\n",
    "cv2.waitKey(0)\n",
    "cv2.destroyAllWindows()"
   ]
  },
  {
   "cell_type": "code",
   "execution_count": 4,
   "id": "8144b2d6",
   "metadata": {},
   "outputs": [
    {
     "name": "stdout",
     "output_type": "stream",
     "text": [
      "WARNING:tensorflow:From C:\\Users\\PAVAN KALYAN\\AppData\\Roaming\\Python\\Python311\\site-packages\\keras\\src\\losses.py:2976: The name tf.losses.sparse_softmax_cross_entropy is deprecated. Please use tf.compat.v1.losses.sparse_softmax_cross_entropy instead.\n",
      "\n"
     ]
    }
   ],
   "source": [
    "from tensorflow.keras.preprocessing.image import load_img , img_to_array"
   ]
  },
  {
   "cell_type": "code",
   "execution_count": 12,
   "id": "2df00458",
   "metadata": {},
   "outputs": [
    {
     "data": {
      "text/plain": [
       "array([[145, 319, 200, 244],\n",
       "       [186, 395, 376, 430],\n",
       "       [211, 406, 161, 202],\n",
       "       [315, 665, 442, 531],\n",
       "       [248, 421, 121, 174]], dtype=int64)"
      ]
     },
     "execution_count": 12,
     "metadata": {},
     "output_type": "execute_result"
    }
   ],
   "source": [
    "labels = df.iloc[:,1:].values\n",
    "labels[:5]"
   ]
  },
  {
   "cell_type": "code",
   "execution_count": 13,
   "id": "9ab9c9b2",
   "metadata": {},
   "outputs": [],
   "source": [
    "data = []\n",
    "output = []\n",
    "original_dim = []\n",
    "for index in range(len(images_path)):\n",
    "    image_path = images_path[index]\n",
    "    img_arr = cv2.imread(image_path)\n",
    "    h,w,d = img_arr.shape\n",
    "    original_dim.append([w , w , h , h])\n",
    "    load_image = load_img(image_path , target_size = (244 , 244))\n",
    "    load_image_arr = img_to_array(load_image)\n",
    "    norm_load_image_arr = load_image_arr / 255.0\n",
    "    xmin,xmax,ymin,ymax = labels[index]\n",
    "    nxmin , nxmax = xmin/w , xmax/w\n",
    "    nymin , nymax = ymin/h , ymax/h\n",
    "    label_norm = (nxmin , nxmax ,nymin ,nymax)\n",
    "    data.append(norm_load_image_arr)\n",
    "    output.append(label_norm)"
   ]
  },
  {
   "cell_type": "code",
   "execution_count": 5,
   "id": "da597c17",
   "metadata": {},
   "outputs": [
    {
     "name": "stdout",
     "output_type": "stream",
     "text": [
      "WARNING:tensorflow:From C:\\Users\\PAVAN KALYAN\\AppData\\Roaming\\Python\\Python311\\site-packages\\keras\\src\\backend.py:1398: The name tf.executing_eagerly_outside_functions is deprecated. Please use tf.compat.v1.executing_eagerly_outside_functions instead.\n",
      "\n",
      "WARNING:tensorflow:From C:\\Users\\PAVAN KALYAN\\AppData\\Roaming\\Python\\Python311\\site-packages\\keras\\src\\layers\\pooling\\max_pooling2d.py:161: The name tf.nn.max_pool is deprecated. Please use tf.nn.max_pool2d instead.\n",
      "\n"
     ]
    }
   ],
   "source": [
    "#loading the model\n",
    "\n",
    "import tensorflow as tf\n",
    "\n",
    "model = tf.keras.models.load_model('./models/object_detection.h5')"
   ]
  },
  {
   "cell_type": "code",
   "execution_count": 15,
   "id": "c84aee60",
   "metadata": {},
   "outputs": [],
   "source": [
    "test_data = np.array(data , dtype = np.float32)"
   ]
  },
  {
   "cell_type": "code",
   "execution_count": 16,
   "id": "2ce50540",
   "metadata": {},
   "outputs": [
    {
     "name": "stdout",
     "output_type": "stream",
     "text": [
      "2/2 [==============================] - 15s 1s/step\n"
     ]
    }
   ],
   "source": [
    "predictions = model.predict(test_data)"
   ]
  },
  {
   "cell_type": "code",
   "execution_count": 17,
   "id": "5b90bf21",
   "metadata": {},
   "outputs": [
    {
     "data": {
      "text/plain": [
       "array([[0.3019115 , 0.653579  , 0.5448914 , 0.6567637 ],\n",
       "       [0.25217223, 0.4930503 , 0.7284467 , 0.82579064],\n",
       "       [0.3441298 , 0.63881433, 0.42463395, 0.53476083],\n",
       "       [0.34772   , 0.7103614 , 0.42368323, 0.5629044 ],\n",
       "       [0.4786798 , 0.8154831 , 0.50838894, 0.65856004]], dtype=float32)"
      ]
     },
     "execution_count": 17,
     "metadata": {},
     "output_type": "execute_result"
    }
   ],
   "source": [
    "predictions[:5]"
   ]
  },
  {
   "cell_type": "code",
   "execution_count": 18,
   "id": "8ef66390",
   "metadata": {},
   "outputs": [
    {
     "data": {
      "text/plain": [
       "[[500, 500, 378, 378],\n",
       " [800, 800, 530, 530],\n",
       " [642, 642, 400, 400],\n",
       " [959, 959, 959, 959],\n",
       " [500, 500, 268, 268]]"
      ]
     },
     "execution_count": 18,
     "metadata": {},
     "output_type": "execute_result"
    }
   ],
   "source": [
    "#w w h h\n",
    "original_dim[:5]"
   ]
  },
  {
   "cell_type": "code",
   "execution_count": 19,
   "id": "d78f1c91",
   "metadata": {},
   "outputs": [
    {
     "data": {
      "text/plain": [
       "array([[150.95575154, 326.78949833, 205.96895564, 248.25666833],\n",
       "       [201.73778534, 394.44024563, 386.07676268, 437.66904116],\n",
       "       [220.93133211, 410.11879992, 169.85358   , 213.90433311],\n",
       "       [333.46347728, 681.23660284, 406.31221384, 539.8253364 ],\n",
       "       [239.339903  , 407.74154663, 136.24823499, 176.49409008]])"
      ]
     },
     "execution_count": 19,
     "metadata": {},
     "output_type": "execute_result"
    }
   ],
   "source": [
    "denormalised_coord = predictions * original_dim\n",
    "denormalised_coord[:5]"
   ]
  },
  {
   "cell_type": "code",
   "execution_count": 20,
   "id": "bf9205e0",
   "metadata": {},
   "outputs": [
    {
     "data": {
      "text/plain": [
       "array([[145, 319, 200, 244],\n",
       "       [186, 395, 376, 430],\n",
       "       [211, 406, 161, 202],\n",
       "       [315, 665, 442, 531],\n",
       "       [248, 421, 121, 174]], dtype=int64)"
      ]
     },
     "execution_count": 20,
     "metadata": {},
     "output_type": "execute_result"
    }
   ],
   "source": [
    "original_license_plate_coord = df.iloc[:,1:].values\n",
    "original_license_plate_coord[:5]"
   ]
  },
  {
   "cell_type": "code",
   "execution_count": 21,
   "id": "fed69b00",
   "metadata": {},
   "outputs": [],
   "source": [
    "import math"
   ]
  },
  {
   "cell_type": "code",
   "execution_count": 22,
   "id": "b7fd04bc",
   "metadata": {},
   "outputs": [],
   "source": [
    "def calculateIOU(pt1, pt2, pt3, pt4):\n",
    "    X0A, Y0A = pt1\n",
    "    X1A, Y1A = pt2\n",
    "    X0B, Y0B = pt3\n",
    "    X1B, Y1B = pt4\n",
    "\n",
    "    X01 = max(X0A, X0B)\n",
    "    X11 = min(X1A, X1B)\n",
    "    Y01 = max(Y0A, Y0B)\n",
    "    Y11 = min(Y1A, Y1B)\n",
    "\n",
    "    intersection_area = max(0, X11 - X01) * max(0, Y11 - Y01)\n",
    "\n",
    "    area_box_a = abs(X1A - X0A) * abs(Y1A - Y0A)\n",
    "    area_box_b = abs(X1B - X0B) * abs(Y1B - Y0B)\n",
    "\n",
    "    union_area = area_box_a + area_box_b - intersection_area\n",
    "\n",
    "    IOU = intersection_area / union_area\n",
    "    return IOU"
   ]
  },
  {
   "cell_type": "code",
   "execution_count": 23,
   "id": "7031f524",
   "metadata": {},
   "outputs": [],
   "source": [
    "IOU_results = []\n",
    "for i in range(len(original_license_plate_coord)):\n",
    "    predicted_box = denormalised_coord[i]\n",
    "    original_box = original_license_plate_coord[i]\n",
    "    \n",
    "    X0A = original_box[0]\n",
    "    X1A = original_box[1]\n",
    "    Y0A = original_box[2]\n",
    "    Y1A = original_box[3]\n",
    "    \n",
    "    X0B = predicted_box[0]\n",
    "    X1B = predicted_box[1]\n",
    "    Y0B = predicted_box[2]\n",
    "    Y1B = predicted_box[3]\n",
    "    \n",
    "    pt1 = (X0A, Y0A)\n",
    "    pt2 = (X1A, Y1A)\n",
    "    pt3 = (X0B, Y0B)\n",
    "    pt4 = (X1B, Y1B)\n",
    "    \n",
    "    res = calculateIOU(pt1, pt2, pt3, pt4)\n",
    "    IOU_results.append(res)"
   ]
  },
  {
   "cell_type": "code",
   "execution_count": 24,
   "id": "77defda9",
   "metadata": {},
   "outputs": [
    {
     "name": "stdout",
     "output_type": "stream",
     "text": [
      "[0.7345261737177767, 0.663132242422463, 0.5731743749445101, 0.6137582536622237, 0.608164593435467]\n"
     ]
    }
   ],
   "source": [
    "print(IOU_results[:5])"
   ]
  },
  {
   "cell_type": "code",
   "execution_count": 25,
   "id": "2fc80044",
   "metadata": {},
   "outputs": [],
   "source": [
    "total_iou = 0\n",
    "for i in IOU_results:\n",
    "    total_iou += i\n",
    "avg_iou = total_iou / len(IOU_results)"
   ]
  },
  {
   "cell_type": "code",
   "execution_count": 26,
   "id": "3f8e766d",
   "metadata": {},
   "outputs": [
    {
     "name": "stdout",
     "output_type": "stream",
     "text": [
      "Result of the IOU is :  0.68\n",
      "Percentage of overlapping :  68.0\n"
     ]
    }
   ],
   "source": [
    "print('Result of the IOU is : ' , round(avg_iou , 2))\n",
    "print('Percentage of overlapping : ' , round(avg_iou , 2) * 100)"
   ]
  },
  {
   "cell_type": "code",
   "execution_count": 27,
   "id": "d1b2b16c",
   "metadata": {},
   "outputs": [
    {
     "name": "stdout",
     "output_type": "stream",
     "text": [
      "New IOU :  70.0\n",
      "No of failed records :  3\n"
     ]
    }
   ],
   "source": [
    "#Finding the images that model failed to predict\n",
    "threshold = 0.5\n",
    "modified_sum_iou = 0\n",
    "failed_records = 0\n",
    "failed_records_index = []\n",
    "for i in range(len(IOU_results)):\n",
    "    if IOU_results[i] > threshold:\n",
    "        modified_sum_iou += IOU_results[i]\n",
    "    else:\n",
    "        failed_records += 1\n",
    "        failed_records_index.append(i)\n",
    "new_len = len(IOU_results) - failed_records\n",
    "avg_IOU = modified_sum_iou / new_len\n",
    "avg_IOU = round(avg_IOU , 2)\n",
    "print('New IOU : ' , avg_IOU * 100)\n",
    "print('No of failed records : ' , failed_records)"
   ]
  },
  {
   "cell_type": "code",
   "execution_count": 28,
   "id": "fd2a0b47",
   "metadata": {},
   "outputs": [
    {
     "name": "stdout",
     "output_type": "stream",
     "text": [
      "./images\\N19.xml\n",
      "./images\\N24.xml\n",
      "./images\\N163.xml\n"
     ]
    }
   ],
   "source": [
    "#list of failed records\n",
    "#print(failed_records_index)\n",
    "for i in failed_records_index:\n",
    "    print(df.iloc[i][0])"
   ]
  },
  {
   "cell_type": "code",
   "execution_count": 29,
   "id": "e6cbd437",
   "metadata": {},
   "outputs": [],
   "source": [
    "def calculate_tp_fn(predicted_boxes, actual_boxes, threshold , IOU_results):\n",
    "    true_positives = 0\n",
    "    false_negatives = 0\n",
    "    \n",
    "    detected = [False] * len(actual_boxes)\n",
    "    max_iou = 0\n",
    "    max_iou_index = -1\n",
    "    \n",
    "    for i in range(len(actual_boxes)):\n",
    "        if(IOU_results[i] > max_iou):\n",
    "            max_iou += 1\n",
    "            max_iou_index = i\n",
    "        if(IOU_results[i] >= threshold):\n",
    "            true_positives += 1\n",
    "        else:\n",
    "            false_negatives += 1\n",
    "    return true_positives, false_negatives\n"
   ]
  },
  {
   "cell_type": "code",
   "execution_count": 30,
   "id": "7678f138",
   "metadata": {},
   "outputs": [
    {
     "name": "stdout",
     "output_type": "stream",
     "text": [
      "Percentage of true positive records :  92.68\n",
      "Percentage of false negative records :  7.32\n"
     ]
    }
   ],
   "source": [
    "actual_boxes = original_license_plate_coord\n",
    "predicted_boxes = denormalised_coord\n",
    "threshold = 0.5\n",
    "true_positives , false_negatives = calculate_tp_fn(predicted_boxes , actual_boxes , threshold , IOU_results)\n",
    "print(\"Percentage of true positive records : \"  , round(true_positives / len(actual_boxes) * 100 , 2))\n",
    "print(\"Percentage of false negative records : \"  , round(false_negatives / len(actual_boxes) * 100 , 2))"
   ]
  },
  {
   "cell_type": "code",
   "execution_count": 31,
   "id": "4932bfaa",
   "metadata": {},
   "outputs": [
    {
     "name": "stdout",
     "output_type": "stream",
     "text": [
      "Detection Accuracy of the model :  92.68\n"
     ]
    }
   ],
   "source": [
    "print('Detection Accuracy of the model : ' , round(true_positives / len(actual_boxes) * 100 , 2))"
   ]
  },
  {
   "cell_type": "code",
   "execution_count": 32,
   "id": "3707c224",
   "metadata": {},
   "outputs": [],
   "source": [
    "import pytesseract as pt"
   ]
  },
  {
   "cell_type": "code",
   "execution_count": 33,
   "id": "193aebd7",
   "metadata": {},
   "outputs": [],
   "source": [
    "items_to_remove = ['./images\\\\N19.xml', './images\\\\N24.xml', './images\\\\N163.xml']\n",
    "for item in items_to_remove:\n",
    "    if item in path:\n",
    "        path.remove(item)"
   ]
  },
  {
   "cell_type": "code",
   "execution_count": 34,
   "id": "8895118f",
   "metadata": {},
   "outputs": [],
   "source": [
    "items_to_remove = ['./images\\\\N19.jpeg', './images\\\\N24.jpeg', './images\\\\N163.jpeg']\n",
    "for item in items_to_remove:\n",
    "    if item in images_path:\n",
    "        images_path.remove(item)"
   ]
  },
  {
   "cell_type": "code",
   "execution_count": 35,
   "id": "852e2f0e",
   "metadata": {},
   "outputs": [
    {
     "name": "stdout",
     "output_type": "stream",
     "text": [
      "1/1 [==============================] - 0s 444ms/step\n",
      "1/1 [==============================] - 0s 395ms/step\n",
      "1/1 [==============================] - 0s 382ms/step\n",
      "1/1 [==============================] - 0s 397ms/step\n",
      "1/1 [==============================] - 0s 372ms/step\n",
      "1/1 [==============================] - 0s 387ms/step\n",
      "1/1 [==============================] - 0s 363ms/step\n",
      "1/1 [==============================] - 0s 430ms/step\n",
      "1/1 [==============================] - 0s 387ms/step\n",
      "1/1 [==============================] - 0s 382ms/step\n",
      "1/1 [==============================] - 0s 378ms/step\n",
      "1/1 [==============================] - 0s 375ms/step\n",
      "1/1 [==============================] - 0s 365ms/step\n",
      "1/1 [==============================] - 0s 362ms/step\n",
      "1/1 [==============================] - 0s 386ms/step\n",
      "1/1 [==============================] - 0s 372ms/step\n",
      "1/1 [==============================] - 0s 414ms/step\n",
      "1/1 [==============================] - 0s 407ms/step\n",
      "1/1 [==============================] - 0s 364ms/step\n",
      "1/1 [==============================] - 0s 369ms/step\n",
      "1/1 [==============================] - 0s 379ms/step\n",
      "1/1 [==============================] - 0s 346ms/step\n",
      "1/1 [==============================] - 0s 360ms/step\n",
      "1/1 [==============================] - 0s 362ms/step\n",
      "1/1 [==============================] - 0s 355ms/step\n",
      "1/1 [==============================] - 0s 361ms/step\n",
      "1/1 [==============================] - 0s 382ms/step\n",
      "1/1 [==============================] - 0s 353ms/step\n",
      "1/1 [==============================] - 0s 401ms/step\n",
      "1/1 [==============================] - 0s 379ms/step\n",
      "1/1 [==============================] - 0s 385ms/step\n",
      "1/1 [==============================] - 0s 389ms/step\n",
      "1/1 [==============================] - 0s 360ms/step\n",
      "1/1 [==============================] - 0s 396ms/step\n",
      "1/1 [==============================] - 0s 366ms/step\n",
      "1/1 [==============================] - 0s 362ms/step\n",
      "1/1 [==============================] - 0s 371ms/step\n",
      "1/1 [==============================] - 0s 364ms/step\n"
     ]
    }
   ],
   "source": [
    "#using the pipeline created in make_predictions\n",
    "#creatig a final pipeline\n",
    "\n",
    "predicted_license_plate_numbers=[]\n",
    "\n",
    "def object_detection(path):\n",
    "    image = load_img(path) #PIL object\n",
    "    image = np.array(image , dtype = np.uint8)\n",
    "    #data preprocessing\n",
    "    resized_image = load_img(path , target_size=(244 , 244))\n",
    "    image_arr_244 = img_to_array(resized_image) / 255.0\n",
    "    #array is normalised above\n",
    "    h , w , d = image.shape\n",
    "    test_arr = image_arr_244.reshape(1 , 244 , 244 , 3)\n",
    "    #making predictions\n",
    "    coords = model.predict(test_arr)\n",
    "    denorm = np.array([w,w,h,h])\n",
    "    #denormalising\n",
    "    denormalised_coords = coords * denorm\n",
    "    denormalised_coords = denormalised_coords.astype(np.int32)\n",
    "    xmin , xmax , ymin , ymax = denormalised_coords[0]\n",
    "    #pt1 = (xmin , ymin)\n",
    "    #pt2 = (xmax , ymax)\n",
    "    #cv2.rectangle(image , pt1 , pt2 , (0 , 255 , 0) , 3)\n",
    "    return image , denormalised_coords\n",
    "\n",
    "\n",
    "def OCR(path , cords):\n",
    "    xmin , xmax , ymin , ymax = cords[0]\n",
    "    img = np.array(load_img(path))\n",
    "    roi = img[ymin - 5:ymax + 5, xmin - 5:xmax + 5]\n",
    "    ImagePreprocessingBeforeOCR(roi)\n",
    "    \n",
    "def ImagePreprocessingBeforeOCR(roi_image):\n",
    "    resize_test_license_plate = cv2.resize(roi_image, None, fx = 2, fy = 2,  interpolation = cv2.INTER_CUBIC)\n",
    "    grayscale_resize_test_license_plate = cv2.cvtColor(resize_test_license_plate, cv2.COLOR_BGR2GRAY)\n",
    "    gaussian_blur_license_plate = cv2.GaussianBlur(grayscale_resize_test_license_plate, (5, 5), 0) \n",
    "    new_predicted_result = pt.image_to_string(gaussian_blur_license_plate, lang='eng', config='--oem 3 -l eng --psm 6 -c tessedit_char_whitelist=ABCDEFGHIJKLMNOPQRSTUVWXYZ0123456789')\n",
    "    predicted_license_plate_numbers.append(new_predicted_result)\n",
    "    \n",
    "    \n",
    "for i in images_path:\n",
    "    image , cords = object_detection(i)\n",
    "    OCR(i , cords)"
   ]
  },
  {
   "cell_type": "code",
   "execution_count": 36,
   "id": "ad7464ea",
   "metadata": {},
   "outputs": [
    {
     "data": {
      "text/plain": [
       "['KL25 B2001\\n\\x0c',\n",
       " 'A03AB3380\\n\\x0c',\n",
       " 'KL59K2473\\n\\x0c',\n",
       " 'XL10AV 6633\\n\\x0c',\n",
       " 'SKLOILAZ2\\n\\x0c']"
      ]
     },
     "execution_count": 36,
     "metadata": {},
     "output_type": "execute_result"
    }
   ],
   "source": [
    "predicted_license_plate_numbers[:5]"
   ]
  },
  {
   "cell_type": "code",
   "execution_count": 37,
   "id": "c8d33358",
   "metadata": {},
   "outputs": [],
   "source": [
    "cleaned_data = []\n",
    "for string_data in predicted_license_plate_numbers:\n",
    "    cleaned_string = string_data.replace('\\n', '').replace('\\x0c', '').replace(' ' , '')\n",
    "    cleaned_data.append(cleaned_string)"
   ]
  },
  {
   "cell_type": "code",
   "execution_count": 39,
   "id": "4ae870cc",
   "metadata": {},
   "outputs": [
    {
     "data": {
      "text/plain": [
       "['KL25B2001', 'A03AB3380', 'KL59K2473', 'XL10AV6633', 'SKLOILAZ2']"
      ]
     },
     "execution_count": 39,
     "metadata": {},
     "output_type": "execute_result"
    }
   ],
   "source": [
    "cleaned_data[:5]"
   ]
  },
  {
   "cell_type": "code",
   "execution_count": 40,
   "id": "d2cea7ab",
   "metadata": {},
   "outputs": [],
   "source": [
    "predictions_df = pd.DataFrame(cleaned_data)\n",
    "predictions_df.to_csv('predicted_license_plate_results.csv',index=False)"
   ]
  },
  {
   "cell_type": "code",
   "execution_count": 47,
   "id": "276d1f22",
   "metadata": {},
   "outputs": [],
   "source": [
    "predictions_df = pd.read_csv('predicted_license_plate_results.csv' , names=['Predicted'])"
   ]
  },
  {
   "cell_type": "code",
   "execution_count": 48,
   "id": "5e88b4c9",
   "metadata": {},
   "outputs": [],
   "source": [
    "actual_results_df = pd.read_csv('actual_license_plate_results.csv' , names=['Actual'])"
   ]
  },
  {
   "cell_type": "code",
   "execution_count": 50,
   "id": "76c821bc",
   "metadata": {},
   "outputs": [
    {
     "name": "stdout",
     "output_type": "stream",
     "text": [
      "Average Accuracy: 85.08597883597885\n"
     ]
    }
   ],
   "source": [
    "def calculate_accuracy(predicted, actual):\n",
    "    count = 0\n",
    "    for pred_char in predicted:\n",
    "        if pred_char in actual:\n",
    "            count += 1\n",
    "    return count / len(actual)\n",
    "\n",
    "# Calculate accuracy for each row\n",
    "accuracies = []\n",
    "for pred_plate, actual_plate in zip(predictions_df['Predicted'], actual_results_df['Actual']):\n",
    "    accuracy = calculate_accuracy(pred_plate, actual_plate)\n",
    "    accuracies.append(accuracy)\n",
    "\n",
    "# Calculate average accuracy\n",
    "average_accuracy = sum(accuracies) / len(accuracies)\n",
    "print(\"Average Accuracy:\", average_accuracy * 100)"
   ]
  },
  {
   "cell_type": "code",
   "execution_count": null,
   "id": "7ae160ab",
   "metadata": {},
   "outputs": [],
   "source": []
  }
 ],
 "metadata": {
  "kernelspec": {
   "display_name": "Python 3 (ipykernel)",
   "language": "python",
   "name": "python3"
  },
  "language_info": {
   "codemirror_mode": {
    "name": "ipython",
    "version": 3
   },
   "file_extension": ".py",
   "mimetype": "text/x-python",
   "name": "python",
   "nbconvert_exporter": "python",
   "pygments_lexer": "ipython3",
   "version": "3.11.5"
  }
 },
 "nbformat": 4,
 "nbformat_minor": 5
}
